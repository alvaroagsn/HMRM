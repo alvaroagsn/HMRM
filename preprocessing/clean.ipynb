{
 "cells": [
  {
   "cell_type": "code",
   "execution_count": 1,
   "metadata": {},
   "outputs": [
    {
     "name": "stderr",
     "output_type": "stream",
     "text": [
      "/home/paulo/.pyenv/versions/3.8.10/lib/python3.8/site-packages/pandas/compat/__init__.py:124: UserWarning: Could not import the lzma module. Your installed Python is incomplete. Attempting to use lzma compression will result in a RuntimeError.\n",
      "  warnings.warn(msg)\n"
     ]
    }
   ],
   "source": [
    "import pandas as pd"
   ]
  },
  {
   "cell_type": "code",
   "execution_count": 3,
   "metadata": {},
   "outputs": [],
   "source": [
    "df = pd.read_csv(\"../data/gowalla_checkins.csv\")"
   ]
  },
  {
   "cell_type": "code",
   "execution_count": 4,
   "metadata": {},
   "outputs": [
    {
     "data": {
      "text/plain": [
       "(2467, 355445)"
      ]
     },
     "execution_count": 4,
     "metadata": {},
     "output_type": "execute_result"
    }
   ],
   "source": [
    "df.userid.unique().size, df.placeid.unique().size"
   ]
  },
  {
   "cell_type": "code",
   "execution_count": 5,
   "metadata": {},
   "outputs": [
    {
     "data": {
      "text/plain": [
       "(2679149, 7665957)"
      ]
     },
     "execution_count": 5,
     "metadata": {},
     "output_type": "execute_result"
    }
   ],
   "source": [
    "df.userid.max(), df.placeid.max()"
   ]
  },
  {
   "cell_type": "code",
   "execution_count": 6,
   "metadata": {},
   "outputs": [],
   "source": [
    "df.userid =  pd.factorize(df.userid)[0]\n",
    "df.placeid =  pd.factorize(df.placeid)[0]"
   ]
  },
  {
   "cell_type": "code",
   "execution_count": 7,
   "metadata": {},
   "outputs": [
    {
     "data": {
      "text/plain": [
       "(2466, 355444)"
      ]
     },
     "execution_count": 7,
     "metadata": {},
     "output_type": "execute_result"
    }
   ],
   "source": [
    "df.userid.max(), df.placeid.max()"
   ]
  },
  {
   "cell_type": "code",
   "execution_count": 8,
   "metadata": {},
   "outputs": [],
   "source": [
    "df['userid_int'] = df.userid.astype(int)\n",
    "df['placeid_int'] = df.placeid.astype(int)"
   ]
  },
  {
   "cell_type": "code",
   "execution_count": 9,
   "metadata": {},
   "outputs": [
    {
     "data": {
      "text/html": [
       "<div>\n",
       "<style scoped>\n",
       "    .dataframe tbody tr th:only-of-type {\n",
       "        vertical-align: middle;\n",
       "    }\n",
       "\n",
       "    .dataframe tbody tr th {\n",
       "        vertical-align: top;\n",
       "    }\n",
       "\n",
       "    .dataframe thead th {\n",
       "        text-align: right;\n",
       "    }\n",
       "</style>\n",
       "<table border=\"1\" class=\"dataframe\">\n",
       "  <thead>\n",
       "    <tr style=\"text-align: right;\">\n",
       "      <th></th>\n",
       "      <th>userid</th>\n",
       "      <th>placeid</th>\n",
       "      <th>datetime</th>\n",
       "      <th>userid_int</th>\n",
       "      <th>placeid_int</th>\n",
       "    </tr>\n",
       "  </thead>\n",
       "  <tbody>\n",
       "    <tr>\n",
       "      <th>0</th>\n",
       "      <td>0</td>\n",
       "      <td>0</td>\n",
       "      <td>2011-06-23T02:24:22Z</td>\n",
       "      <td>0</td>\n",
       "      <td>0</td>\n",
       "    </tr>\n",
       "    <tr>\n",
       "      <th>1</th>\n",
       "      <td>0</td>\n",
       "      <td>1</td>\n",
       "      <td>2011-06-22T14:23:03Z</td>\n",
       "      <td>0</td>\n",
       "      <td>1</td>\n",
       "    </tr>\n",
       "    <tr>\n",
       "      <th>2</th>\n",
       "      <td>0</td>\n",
       "      <td>2</td>\n",
       "      <td>2011-06-09T23:29:30Z</td>\n",
       "      <td>0</td>\n",
       "      <td>2</td>\n",
       "    </tr>\n",
       "    <tr>\n",
       "      <th>3</th>\n",
       "      <td>0</td>\n",
       "      <td>3</td>\n",
       "      <td>2011-05-22T15:54:30Z</td>\n",
       "      <td>0</td>\n",
       "      <td>3</td>\n",
       "    </tr>\n",
       "    <tr>\n",
       "      <th>4</th>\n",
       "      <td>0</td>\n",
       "      <td>4</td>\n",
       "      <td>2011-05-21T16:51:13Z</td>\n",
       "      <td>0</td>\n",
       "      <td>4</td>\n",
       "    </tr>\n",
       "    <tr>\n",
       "      <th>...</th>\n",
       "      <td>...</td>\n",
       "      <td>...</td>\n",
       "      <td>...</td>\n",
       "      <td>...</td>\n",
       "      <td>...</td>\n",
       "    </tr>\n",
       "    <tr>\n",
       "      <th>1048570</th>\n",
       "      <td>2466</td>\n",
       "      <td>355441</td>\n",
       "      <td>2011-06-05T12:16:11Z</td>\n",
       "      <td>2466</td>\n",
       "      <td>355441</td>\n",
       "    </tr>\n",
       "    <tr>\n",
       "      <th>1048571</th>\n",
       "      <td>2466</td>\n",
       "      <td>355442</td>\n",
       "      <td>2011-06-05T11:07:24Z</td>\n",
       "      <td>2466</td>\n",
       "      <td>355442</td>\n",
       "    </tr>\n",
       "    <tr>\n",
       "      <th>1048572</th>\n",
       "      <td>2466</td>\n",
       "      <td>355443</td>\n",
       "      <td>2011-05-31T12:03:43Z</td>\n",
       "      <td>2466</td>\n",
       "      <td>355443</td>\n",
       "    </tr>\n",
       "    <tr>\n",
       "      <th>1048573</th>\n",
       "      <td>2466</td>\n",
       "      <td>355444</td>\n",
       "      <td>2011-05-31T08:38:36Z</td>\n",
       "      <td>2466</td>\n",
       "      <td>355444</td>\n",
       "    </tr>\n",
       "    <tr>\n",
       "      <th>1048574</th>\n",
       "      <td>2466</td>\n",
       "      <td>95785</td>\n",
       "      <td>2011-05-31T08:37:50Z</td>\n",
       "      <td>2466</td>\n",
       "      <td>95785</td>\n",
       "    </tr>\n",
       "  </tbody>\n",
       "</table>\n",
       "<p>1048575 rows × 5 columns</p>\n",
       "</div>"
      ],
      "text/plain": [
       "         userid  placeid              datetime  userid_int  placeid_int\n",
       "0             0        0  2011-06-23T02:24:22Z           0            0\n",
       "1             0        1  2011-06-22T14:23:03Z           0            1\n",
       "2             0        2  2011-06-09T23:29:30Z           0            2\n",
       "3             0        3  2011-05-22T15:54:30Z           0            3\n",
       "4             0        4  2011-05-21T16:51:13Z           0            4\n",
       "...         ...      ...                   ...         ...          ...\n",
       "1048570    2466   355441  2011-06-05T12:16:11Z        2466       355441\n",
       "1048571    2466   355442  2011-06-05T11:07:24Z        2466       355442\n",
       "1048572    2466   355443  2011-05-31T12:03:43Z        2466       355443\n",
       "1048573    2466   355444  2011-05-31T08:38:36Z        2466       355444\n",
       "1048574    2466    95785  2011-05-31T08:37:50Z        2466        95785\n",
       "\n",
       "[1048575 rows x 5 columns]"
      ]
     },
     "execution_count": 9,
     "metadata": {},
     "output_type": "execute_result"
    }
   ],
   "source": [
    "df"
   ]
  },
  {
   "cell_type": "code",
   "execution_count": 23,
   "metadata": {},
   "outputs": [],
   "source": [
    "df.to_csv(\"../data/pre_gowalla_checkins.csv\")"
   ]
  },
  {
   "cell_type": "code",
   "execution_count": 12,
   "metadata": {},
   "outputs": [
    {
     "data": {
      "text/html": [
       "<div>\n",
       "<style scoped>\n",
       "    .dataframe tbody tr th:only-of-type {\n",
       "        vertical-align: middle;\n",
       "    }\n",
       "\n",
       "    .dataframe tbody tr th {\n",
       "        vertical-align: top;\n",
       "    }\n",
       "\n",
       "    .dataframe thead th {\n",
       "        text-align: right;\n",
       "    }\n",
       "</style>\n",
       "<table border=\"1\" class=\"dataframe\">\n",
       "  <thead>\n",
       "    <tr style=\"text-align: right;\">\n",
       "      <th></th>\n",
       "      <th>userid</th>\n",
       "      <th>placeid</th>\n",
       "      <th>datetime</th>\n",
       "      <th>userid_int</th>\n",
       "      <th>placeid_int</th>\n",
       "    </tr>\n",
       "  </thead>\n",
       "  <tbody>\n",
       "    <tr>\n",
       "      <th>0</th>\n",
       "      <td>0</td>\n",
       "      <td>0</td>\n",
       "      <td>2011-06-23T02:24:22Z</td>\n",
       "      <td>0</td>\n",
       "      <td>0</td>\n",
       "    </tr>\n",
       "    <tr>\n",
       "      <th>1</th>\n",
       "      <td>0</td>\n",
       "      <td>1</td>\n",
       "      <td>2011-06-22T14:23:03Z</td>\n",
       "      <td>0</td>\n",
       "      <td>1</td>\n",
       "    </tr>\n",
       "    <tr>\n",
       "      <th>2</th>\n",
       "      <td>0</td>\n",
       "      <td>2</td>\n",
       "      <td>2011-06-09T23:29:30Z</td>\n",
       "      <td>0</td>\n",
       "      <td>2</td>\n",
       "    </tr>\n",
       "    <tr>\n",
       "      <th>3</th>\n",
       "      <td>0</td>\n",
       "      <td>3</td>\n",
       "      <td>2011-05-22T15:54:30Z</td>\n",
       "      <td>0</td>\n",
       "      <td>3</td>\n",
       "    </tr>\n",
       "    <tr>\n",
       "      <th>4</th>\n",
       "      <td>0</td>\n",
       "      <td>4</td>\n",
       "      <td>2011-05-21T16:51:13Z</td>\n",
       "      <td>0</td>\n",
       "      <td>4</td>\n",
       "    </tr>\n",
       "    <tr>\n",
       "      <th>...</th>\n",
       "      <td>...</td>\n",
       "      <td>...</td>\n",
       "      <td>...</td>\n",
       "      <td>...</td>\n",
       "      <td>...</td>\n",
       "    </tr>\n",
       "    <tr>\n",
       "      <th>1048570</th>\n",
       "      <td>2466</td>\n",
       "      <td>355441</td>\n",
       "      <td>2011-06-05T12:16:11Z</td>\n",
       "      <td>2466</td>\n",
       "      <td>355441</td>\n",
       "    </tr>\n",
       "    <tr>\n",
       "      <th>1048571</th>\n",
       "      <td>2466</td>\n",
       "      <td>355442</td>\n",
       "      <td>2011-06-05T11:07:24Z</td>\n",
       "      <td>2466</td>\n",
       "      <td>355442</td>\n",
       "    </tr>\n",
       "    <tr>\n",
       "      <th>1048572</th>\n",
       "      <td>2466</td>\n",
       "      <td>355443</td>\n",
       "      <td>2011-05-31T12:03:43Z</td>\n",
       "      <td>2466</td>\n",
       "      <td>355443</td>\n",
       "    </tr>\n",
       "    <tr>\n",
       "      <th>1048573</th>\n",
       "      <td>2466</td>\n",
       "      <td>355444</td>\n",
       "      <td>2011-05-31T08:38:36Z</td>\n",
       "      <td>2466</td>\n",
       "      <td>355444</td>\n",
       "    </tr>\n",
       "    <tr>\n",
       "      <th>1048574</th>\n",
       "      <td>2466</td>\n",
       "      <td>95785</td>\n",
       "      <td>2011-05-31T08:37:50Z</td>\n",
       "      <td>2466</td>\n",
       "      <td>95785</td>\n",
       "    </tr>\n",
       "  </tbody>\n",
       "</table>\n",
       "<p>1048575 rows × 5 columns</p>\n",
       "</div>"
      ],
      "text/plain": [
       "         userid  placeid              datetime  userid_int  placeid_int\n",
       "0             0        0  2011-06-23T02:24:22Z           0            0\n",
       "1             0        1  2011-06-22T14:23:03Z           0            1\n",
       "2             0        2  2011-06-09T23:29:30Z           0            2\n",
       "3             0        3  2011-05-22T15:54:30Z           0            3\n",
       "4             0        4  2011-05-21T16:51:13Z           0            4\n",
       "...         ...      ...                   ...         ...          ...\n",
       "1048570    2466   355441  2011-06-05T12:16:11Z        2466       355441\n",
       "1048571    2466   355442  2011-06-05T11:07:24Z        2466       355442\n",
       "1048572    2466   355443  2011-05-31T12:03:43Z        2466       355443\n",
       "1048573    2466   355444  2011-05-31T08:38:36Z        2466       355444\n",
       "1048574    2466    95785  2011-05-31T08:37:50Z        2466        95785\n",
       "\n",
       "[1048575 rows x 5 columns]"
      ]
     },
     "execution_count": 12,
     "metadata": {},
     "output_type": "execute_result"
    }
   ],
   "source": [
    "df"
   ]
  },
  {
   "cell_type": "code",
   "execution_count": 33,
   "metadata": {},
   "outputs": [
    {
     "data": {
      "text/plain": [
       "1623"
      ]
     },
     "execution_count": 33,
     "metadata": {},
     "output_type": "execute_result"
    }
   ],
   "source": [
    "df_amostra = df[df.userid < 10]\n",
    "df_amostra.placeid.unique().size\n"
   ]
  },
  {
   "cell_type": "code",
   "execution_count": 32,
   "metadata": {},
   "outputs": [],
   "source": [
    "\n",
    "df_amostra.to_csv(\"../data/amostra_gowalla_checkins.csv\")"
   ]
  }
 ],
 "metadata": {
  "kernelspec": {
   "display_name": "Python 3",
   "language": "python",
   "name": "python3"
  },
  "language_info": {
   "codemirror_mode": {
    "name": "ipython",
    "version": 3
   },
   "file_extension": ".py",
   "mimetype": "text/x-python",
   "name": "python",
   "nbconvert_exporter": "python",
   "pygments_lexer": "ipython3",
   "version": "3.8.10"
  },
  "orig_nbformat": 4
 },
 "nbformat": 4,
 "nbformat_minor": 2
}
