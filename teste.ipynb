{
 "cells": [
  {
   "cell_type": "code",
   "execution_count": 14,
   "metadata": {},
   "outputs": [
    {
     "name": "stderr",
     "output_type": "stream",
     "text": [
      "<>:4: SyntaxWarning: invalid escape sequence '\\d'\n",
      "<>:4: SyntaxWarning: invalid escape sequence '\\d'\n",
      "C:\\Users\\alvar\\AppData\\Local\\Temp\\ipykernel_22304\\3407331991.py:4: SyntaxWarning: invalid escape sequence '\\d'\n",
      "  df = pd.read_csv(\"hmrm\\data\\pois_local_Illinois_cat.csv\")\n"
     ]
    },
    {
     "name": "stdout",
     "output_type": "stream",
     "text": [
      "Arquivo atualizado com place_id salvo!\n"
     ]
    }
   ],
   "source": [
    "import pandas as pd\n",
    "\n",
    "# Carregar CSV\n",
    "df = pd.read_csv(\"hmrm\\data\\pois_local_Illinois_cat.csv\")\n",
    "\n",
    "# Criar um dicionário para armazenar place_ids únicos\n",
    "place_dict = {}\n",
    "place_id_counter = 100000  # Começamos de um valor seguro de 6 dígitos\n",
    "\n",
    "def get_place_id(lat, lon):\n",
    "    global place_id_counter\n",
    "    key = (lat, lon)  # Criamos uma chave única com latitude e longitude\n",
    "    if key not in place_dict:\n",
    "        place_dict[key] = place_id_counter\n",
    "        place_id_counter += 1  # Garante que cada localidade nova tenha um ID diferente\n",
    "    return place_dict[key]\n",
    "\n",
    "# Criar a nova coluna de place_id\n",
    "df[\"place_id\"] = df.apply(lambda row: get_place_id(row[\"lat\"], row[\"lng\"]), axis=1)\n",
    "\n",
    "# Salvar o novo CSV\n",
    "df.to_csv(\"hmrm/data/pois_local_Illinois_cat_placeid.csv\", index=False)\n",
    "\n",
    "print(\"Arquivo atualizado com place_id salvo!\")\n"
   ]
  }
 ],
 "metadata": {
  "kernelspec": {
   "display_name": "Python 3",
   "language": "python",
   "name": "python3"
  },
  "language_info": {
   "codemirror_mode": {
    "name": "ipython",
    "version": 3
   },
   "file_extension": ".py",
   "mimetype": "text/x-python",
   "name": "python",
   "nbconvert_exporter": "python",
   "pygments_lexer": "ipython3",
   "version": "3.12.9"
  }
 },
 "nbformat": 4,
 "nbformat_minor": 2
}
